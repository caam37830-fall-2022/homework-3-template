{
 "cells": [
  {
   "cell_type": "markdown",
   "metadata": {},
   "source": [
    "# Answers\n",
    "\n",
    "You can edit this Jupyter notebook to include your answers and run any code that generates those answers or produces plots.  You can add additional cells for code or markdown as needed.\n",
    "\n",
    "This homework is primarily about running simulations involving initial value problems (IVPs) and understanding numerical differentiation."
   ]
  },
  {
   "cell_type": "markdown",
   "metadata": {},
   "source": [
    "## Problem 0 (25 points)\n",
    "\n",
    "In this problem, you will play around with \"Richardson extrapolation\" - a handy trick which can often be used to combine several poor approximations to get a better one.\n",
    "\n",
    "### Part A (5 points)\n",
    "\n",
    "Write a function to approximate the integral of a function $f$ on an interval $[a,b]$ using a trapezoid rule with $N$ intervals. Your function should take in a user-prescribed function $f$, an interval (specified by the endpoints $a$ and $b$) and a number of intervals $N$ and output the approximate integral. The interval endpoints $a$ and $b$ as well as the number of intervals should be keyword arguments, and suitable checks should be done to make sure that any user-supplied values of these arguments are reasonable (i.e. your code will throw an error instead of crashing).\n",
    "\n",
    "---\n",
    "\n",
    "*Your answer here.  You can create some code cells as well*"
   ]
  },
  {
   "cell_type": "markdown",
   "metadata": {},
   "source": [
    "### Part B (5 points)\n",
    "\n",
    "Use your code to approximate the integral to $e^{x}$ on the interval $[0,1]$ for $N=2,4,8,\\dots,2^{15}.$ Plot the error as a function of $N$ using a loglog plot and determine the best power $\\alpha$ such that\n",
    "$${\\rm Error}(N) =  C/N^\\alpha$$\n",
    "for some fixed constant $C,$ as $N\\to \\infty.$ Note that it might be helpful to throw away the first few points.\n",
    "\n",
    "---\n",
    "\n",
    "*Your answer here.  You can create some code cells as well*"
   ]
  },
  {
   "cell_type": "markdown",
   "metadata": {},
   "source": [
    "### Part C (5 points)\n",
    "\n",
    "Round the $\\alpha$ you found in Part B to the nearest integer, and call it $m.$ Assume that the output of your trapezoid integrator (call it $T(N)$) is given by the formula\n",
    "$$T(N) =  \\int_a^b \\,f(x)\\,{\\rm d}x + C_0/N^m,$$\n",
    "plus an error which is $o(N^{-m}).$\n",
    "where the constant $C_0$ will depend on $a$ and $b$ and $f$ but not on $N.$ What happens to the error in $T(N)$ if you double $N$? Write an expression for it. Using your expressions for $T(N)$ and $T(2N)$ write an expression for the true integral. Do this analytically, not numerically. Hint: your answer should look like\n",
    "$$ \\int_a^b f(x)\\,{\\rm d}x \\approx \\alpha T(N) + \\beta T(2N),$$\n",
    "where $\\alpha$ and $\\beta$ are some constants which do not depend on $a,b,N,$ or $f.$ Check the accuracy of your approximation using the results in Part B. In particular, plot the error for $N=2,4,8,\\dots,2^{14}.$ Note that you do not need to compute any new trapezoid approximations to do this!\n",
    "\n",
    "---\n",
    "\n",
    "*Your answer here.  You can create some code cells as well*"
   ]
  },
  {
   "cell_type": "markdown",
   "metadata": {},
   "source": [
    "### Part D (5 points)\n",
    "\n",
    "Create a new integration function 'richardson_trap' which computes an approximation of the integral based on your answer to Part C. It should take in a function $f,$ an interval $[a,b]$ (i.e. the numbers $a$ and $b$), and an integer $N.$ It should call your trapezoid function twice for $N$ and $2 N$ and compute the approximation to the true integral using the $\\alpha$ and $\\beta$ you found in Part C. For $f(x) = \\sin(x)$ on the interval $[-1,1],$ plot the error as a function of $N$ using a loglog plot and determine the best power $\\alpha$ such that\n",
    "$${\\rm Error}(N) =  C/N^\\alpha$$\n",
    "for some fixed constant $C,$ as $N\\to \\infty.$ Note that it might be helpful to throw away the first few points.\n",
    "\n",
    "---\n",
    "\n",
    "*Your answer here.  You can create some code cells as well*"
   ]
  },
  {
   "cell_type": "markdown",
   "metadata": {},
   "source": [
    "### Part E (5 points)\n",
    "\n",
    "Do the same sort of analysis to improve the forward difference approximation to the derivative. Here, the relevant parameter is $h$ instead of $N,$ and you want to think about using the results for $h$ and $h/2$ to get better approximations. Plot the error in the original finite difference as well as the error for your \"Richardson-ized\" finite difference for a range of $h$'s on a loglog plot. Make sure to explain any strange behavior you observe.\n",
    "\n",
    "---\n",
    "\n",
    "*Your answer here.  You can create some code cells as well*"
   ]
  },
  {
   "cell_type": "markdown",
   "metadata": {},
   "source": [
    "### Part F (optional challenge)\n",
    "\n",
    "Do the same analysis you did in Part C for 'richardson_trap' and determine the new $\\alpha$ and $\\beta$ values. What happens if instead of doubling you multiply $N$ by $3/2$ each time? What would you do if you had $T(N),$ $T(2N),$ and $T(3N)$?"
   ]
  },
  {
   "cell_type": "code",
   "execution_count": null,
   "metadata": {},
   "outputs": [],
   "source": []
  },
  {
   "cell_type": "markdown",
   "metadata": {},
   "source": [
    "## Problem 1 (30 points)\n",
    "\n",
    "In this problem, you will implement a custom ODE solver for `solve_ivp` based on the Forward Euler method, and implement some basic tests.\n",
    "\n",
    "### Part A (20 points)\n",
    "If you read the [documentation for `solve_ipv`](https://docs.scipy.org/doc/scipy/reference/generated/scipy.integrate.solve_ivp.html), which we used in class, you'll see that you can write your own solver.\n",
    "\n",
    "Write a solver for the forward Euler method, which is not implemented as one of the available solvers (while simple, it typically is not very accurate).  Recall, this is the basic rule:\n",
    "\\begin{equation}\n",
    "y(t + h) = y(t) + h f(t, y)\n",
    "\\end{equation}\n",
    "\n",
    "Your solver should be a class which is derived from [`scipy.integrate.OdeSolver`](https://docs.scipy.org/doc/scipy/reference/generated/scipy.integrate.OdeSolver.html#scipy.integrate.OdeSolver)\n",
    "```python\n",
    "class ForwardEuler(scipy.integrate.OdeSolver):\n",
    "    pass\n",
    "```\n",
    "\n",
    "Your class definition should go in [`euler.py`](euler.py)\n",
    "\n",
    "You should read the documentation for this base class in order to implement `ForwardEuler`.  Here are some hints/notes:\n",
    "* Allow a user to set `h` using a keyword argument.  This can be passed using `solve_ivp(..., method=ForwardEuler, h=0.01)` to set `h=0.01`\n",
    "* Use a default step size `h = (t_bound - t0) / 100`\n",
    "* private methods begin with an underscore \"_\"\n",
    "* the method `_dense_output_impl(self)` should output a `ForwardEulerOutput` (defined in [`euler.py`](euler.py))\n",
    "* direction should be `+1`\n",
    "* You won't use a Jacobian, so `njev` and `nlu` can remain at 0.\n",
    "* You may want to consider using `super(ForwardEuler, self).__init__`\n",
    "* You may want to read the source code for the parent class [here](https://github.com/scipy/scipy/blob/v1.5.3/scipy/integrate/_ivp/base.py#L25-L214)\n",
    "\n",
    "---\n",
    "\n",
    "*put any discussion here*"
   ]
  },
  {
   "cell_type": "code",
   "execution_count": null,
   "metadata": {},
   "outputs": [],
   "source": [
    "from scipy.integrate import solve_ivp\n",
    "from euler import ForwardEuler"
   ]
  },
  {
   "cell_type": "markdown",
   "metadata": {},
   "source": [
    "### Part B (10 points)\n",
    "\n",
    "Use your `ForwardEuler` solver and `solve_ivp` to solve an IVP $y'(t) = y$ with $y(0) = 1$ on the domain $t\\in [0,5]$, using a step size `h=0.01`.  Make a plot of the solution to this IVP with axes labeled `y` and `x`.\n",
    "\n",
    "Use SymPy to obtain the ground-truth solution to this IVP.  What is the largest error you see on the domain you solved the problem?  Try solving with the default solver in `solve_ivp`.  What is the largest error in this case?\n",
    "\n",
    "---\n",
    "\n",
    "*put your answers here*"
   ]
  },
  {
   "cell_type": "markdown",
   "metadata": {},
   "source": [
    "### Part C (optional challenge)\n",
    "\n",
    "Use Richardson (see Problem 0) on your Forward Euler solver. How does the error change? You can assume that $m=1$ and derive the formula analytically. What happens if you do Richardson twice?"
   ]
  },
  {
   "cell_type": "code",
   "execution_count": null,
   "metadata": {},
   "outputs": [],
   "source": []
  },
  {
   "cell_type": "markdown",
   "metadata": {},
   "source": [
    "## Problem 2 (20 points)\n",
    "\n",
    "Now that you're warmed up, here are some more simulations.\n",
    "\n",
    "### Part A (15 points)\n",
    "\n",
    "In this problem, we'll simulate a planet and moon moving in a 2-dimensional plane.\n",
    "\n",
    "Newton's law of gravity says that $F_g = Gm_1 m_2 / \\|r\\|^2$.  The direction of the force is in the direction of the vector $r$.  Let $x(t)$ dentote the position of the planet and $y(t)$ denote the position of the moon, and $r(t) = x(t) - y(t)$ Then\n",
    "\\begin{equation}\n",
    "x''(t) = -F_g / m_1 \\times r / \\|r\\|\\\\\n",
    "y''(t) = F_g / m_2 \\times r / \\|r\\|\n",
    "\\end{equation}\n",
    "$x$ and $y$ are 2-vectors, so this is a system of 4-second order ODEs.  We can use the following trick to write this as 8 first order ODEs. Let $p(t)$ be the velocity of the planet and $q(t)$ be the velocity of the moon (note that they are vector valued!). So, $p(t) = x'(t)$, and $q(t) = y'(t)$.  Here are the terms for $x$:\n",
    "\\begin{equation}\n",
    "p_1'(t) = -F_g / m_1 \\times r_1(t) / \\|r\\|\\\\\n",
    "p_2'(t) = -F_g / m_1 \\times r_2(t) / \\|r\\|\\\\\n",
    "x_1'(t) = p_1(t)\\\\\n",
    "x_2'(t) = p_2(t)\n",
    "\\end{equation}\n",
    "\n",
    "We'll model the Earth and moon.  The [Gravitational constant](https://en.wikipedia.org/wiki/Gravitational_constant) has value `G=6.67 e-11` (we're dropping units, which are all SI).  The mass of the earth is `m1 = 5.972 e24`, and the mass of the moon is `m2=0.07346 e24`.  The distance from the moon to the earth is `r = 384.4 e6`.  This means the orbital speed of the moon around the earth is about `1.022 e3`.\n",
    "\n",
    "Use `solve_ivp` to run a simulation of the moon orbiting the earth for `5 e6` seconds (about 2 months).  Use initial conditions $x(0) = 0, p(0) = 0$ for the earth, and $y(0) = (0, 384.4 \\times 10^6)$ and $q(0) = (1.022 \\times 10^3, 0)$\n",
    "\n",
    "Plot $x_1(t), x_2(t)$ and $y_1(t), y_2(t)$ in the same plane with different colors (include a legend and title).\n",
    "\n",
    "---\n",
    "\n",
    "*Put any answers/discussion here*"
   ]
  },
  {
   "cell_type": "code",
   "execution_count": null,
   "metadata": {},
   "outputs": [],
   "source": []
  },
  {
   "cell_type": "markdown",
   "metadata": {},
   "source": [
    "### Part B (5 points)\n",
    "\n",
    "Now simulate a system with 10 planets, in 10 random locations. The planets should have random masses chosen independently and uniformly from the interval $[0,6 \\times 10^{24}]$ and initial locations chosen randomly from the $(8 \\times 10^8) \\times (8\\times 10^8)$ square centered at the origin. The components of each planet's initial velocity should be chosen randomly on $[-5\\times 10^{2}, 5 \\times 10^{2}].$ Plot the positions of each planet as a function of time.\n",
    "\n",
    "---\n",
    "\n",
    "*Your answer here.  You can create some code cells as well*"
   ]
  },
  {
   "cell_type": "code",
   "execution_count": null,
   "metadata": {},
   "outputs": [],
   "source": []
  },
  {
   "cell_type": "markdown",
   "metadata": {},
   "source": [
    "## Problem 3 (10 points)\n",
    "\n",
    "Use functionality from `scipy.sparse` to help illustrate your answers to the following questions.\n",
    "\n",
    "In the [class materials on differentiation](https://caam37830.github.io/book/04_functions/differentiation.html), we defined `forward_diff_matrix` and `backward_diff_matrix`.  What vectors characterize the nullspace of each of these matrices (i.e. vectors `x` so that `D @ x = 0`)?\n",
    "\n",
    "Give an interpretation (from calculus) of the vector `y` where `y` solves the linear system `D @ y = x`, where `D` is a finite-difference matrix.  What is the implication of the nullspace of `D` on solving this linear system?\n",
    "\n",
    "Create a finite difference operator for the Laplacian $\\Delta = \\partial_x^2 + \\partial_y^2$ where second-order differences are based on the stencil `[1, -2, 1]`.  What is the nullspace of this matrix?\n",
    "\n",
    "---\n",
    "\n",
    "*Your answer here.  You can create some code cells as well*"
   ]
  },
  {
   "cell_type": "code",
   "execution_count": null,
   "metadata": {},
   "outputs": [],
   "source": []
  },
  {
   "cell_type": "markdown",
   "metadata": {},
   "source": [
    "## Feedback\n",
    "\n",
    "If you would like share how long it took you to complete this assignment, it will help adjust the difficulty for future assignments.  You're welcome to share additional feedback as well."
   ]
  },
  {
   "cell_type": "code",
   "execution_count": null,
   "metadata": {},
   "outputs": [],
   "source": []
  }
 ],
 "metadata": {
  "kernelspec": {
   "display_name": "Python 3 (ipykernel)",
   "language": "python",
   "name": "python3"
  },
  "language_info": {
   "codemirror_mode": {
    "name": "ipython",
    "version": 3
   },
   "file_extension": ".py",
   "mimetype": "text/x-python",
   "name": "python",
   "nbconvert_exporter": "python",
   "pygments_lexer": "ipython3",
   "version": "3.8.5"
  }
 },
 "nbformat": 4,
 "nbformat_minor": 4
}
